{
 "cells": [
  {
   "cell_type": "markdown",
   "metadata": {},
   "source": [
    "# Amazon-best-seller-web-scraping\n"
   ]
  },
  {
   "cell_type": "markdown",
   "metadata": {},
   "source": [
    " ![amazon](https://i.imgur.com/HXfMkKV.png)"
   ]
  },
  {
   "cell_type": "markdown",
   "metadata": {},
   "source": [
    " [Amazon.com](https://www.amazon.com/) is an American multinational technology company specialized in e-commerce, cloud computing, artificial intelligent. The platform is among the best in the industry, where many variety of items can be purchase.\n",
    " \n",
    "Amazon has listed best sellers in alphabetic order that could be found in [Amazon Best Sellers](https://www.amazon.com/gp/bestsellers/?ref_=nav_cs_bestsellers_22595f4f23134e4aa687cca616dd2701). The page provides a list of items categories regrouped in department(about 40 variety). In this project, we are going to retrieve amazon best seller items in a variety of categories using web scraping. To achieve that we will use Python libraries [resquests](https://docs.python-requests.org/projects/requests-html/en/latest/) and [BeautifulSoup](https://www.crummy.com/software/BeautifulSoup/bs4/doc/) to fetch, parse and extract the information we need from the web page.\n",
    "\n",
    "\n",
    "\n",
    "\n",
    " ![amazon](https://i.imgur.com/iGwAboG.png)\n"
   ]
  },
  {
   "cell_type": "markdown",
   "metadata": {},
   "source": [
    "Here is an outline of the steps we will follow:\n",
    "- Install and import libraries \n",
    "- Download and Parse the Bestseller HTML page source code using request and Beautifulsoup to get item categories topics URL.\n",
    "- Repeat step 2 for each item topic obtained using the corresponding URL\n",
    "- Extract information from each page \n",
    "- Combine the extracted information Extract information from each page's data in a Python Dictionaries\n",
    "- Save the information data to CSV file Using Pandas library\n",
    "\n",
    "By the end of the project, we’ll create a CSV file in the following format:\n",
    "\n",
    "```\n",
    "Topic,Topic_url,Item_description,Rating out of 5,Minimum_price,Maximum_price,Review,Item Url\n",
    "Amazon Devices & Accessories,https://www.amazon.com/Best-Sellers/zgbs/amazon-devices/ref=zg_bs_nav_0/131-6756172-7735956,Fire TV Stick 4K streaming device with Alexa Voice Remote | Dolby Vision | 2018 release,4.7,39.9,0.0,615699,\"https://images-na.ssl-images-amazon.com/images/I/51CgKGfMelL._AC_UL200_SR200,200_.jpg\"\n",
    "Amazon Devices & Accessories,https://www.amazon.com/Best-Sellers/zgbs/amazon-devices/ref=zg_bs_nav_0/131-6756172-7735956,Fire TV Stick (3rd Gen) with Alexa Voice Remote (includes TV controls) | HD streaming device | 2021 release,4.7,39.9,0.0,1844,\"https://images-na.ssl-images-amazon.com/images/I/51KKR5uGn6L._AC_UL200_SR200,200_.jpg\"\n",
    "Amazon Devices & Accessories,https://www.amazon.com/Best-Sellers/zgbs/amazon-devices/ref=zg_bs_nav_0/131-6756172-7735956,\"Amazon Smart Plug, works with Alexa – A Certified for Humans Device\",4.7,24.9,0.0,425090,\"https://images-na.ssl-images-amazon.com/images/I/41uF7hO8FtL._AC_UL200_SR200,200_.jpg\"\n",
    "Amazon Devices & Accessories,https://www.amazon.com/Best-Sellers/zgbs/amazon-devices/ref=zg_bs_nav_0/131-6756172-7735956,Fire TV Stick Lite with Alexa Voice Remote Lite (no TV controls) | HD streaming device | 2020 release,4.7,29.9,0.0,151007,\"https://images-na.ssl-images-amazon.com/images/I/51Da2Z%2BFTFL._AC_UL200_SR200,200_.jpg\"\n",
    "\n",
    "```\n"
   ]
  },
  {
   "cell_type": "markdown",
   "metadata": {},
   "source": [
    "How to Run the Code\n",
    "\n",
    "You can execute the code using the “Run” button at the top of the page and selecting “ Run on Binder “. You can make changes and save your version of the notebook in Jovian by executing the following cells.\n",
    "\n",
    "\n",
    "Notice: Any department on the bestseller page got 40 items categories wherein each category is listed the best 100 items on 2 pages(50 items per page)Due to captcha problems few pages couldn't be accessible."
   ]
  },
  {
   "cell_type": "code",
   "execution_count": 8,
   "metadata": {},
   "outputs": [],
   "source": [
    "!pip install jovian --upgrade --quiet"
   ]
  },
  {
   "cell_type": "code",
   "execution_count": 9,
   "metadata": {},
   "outputs": [],
   "source": [
    "import jovian"
   ]
  },
  {
   "cell_type": "code",
   "execution_count": 10,
   "metadata": {},
   "outputs": [
    {
     "data": {
      "application/javascript": [
       "window.require && require([\"base/js/namespace\"],function(Jupyter){Jupyter.notebook.save_checkpoint()})"
      ],
      "text/plain": [
       "<IPython.core.display.Javascript object>"
      ]
     },
     "metadata": {},
     "output_type": "display_data"
    },
    {
     "name": "stdout",
     "output_type": "stream",
     "text": [
      "[jovian] Attempting to save notebook..\u001b[0m\n",
      "[jovian] Updating notebook \"landryroni/amazon-best-seller-web-scraping\" on https://jovian.ai\u001b[0m\n",
      "[jovian] Uploading notebook..\u001b[0m\n",
      "[jovian] Uploading additional files...\u001b[0m\n",
      "[jovian] Committed successfully! https://jovian.ai/landryroni/amazon-best-seller-web-scraping\u001b[0m\n"
     ]
    },
    {
     "data": {
      "text/plain": [
       "'https://jovian.ai/landryroni/amazon-best-seller-web-scraping'"
      ]
     },
     "execution_count": 10,
     "metadata": {},
     "output_type": "execute_result"
    }
   ],
   "source": [
    "# Execute this to save new versions of the notebook\n",
    "jovian.commit(project=\"amazon-best-seller-web-scraping\")"
   ]
  },
  {
   "cell_type": "markdown",
   "metadata": {},
   "source": [
    "## Install and import libraries"
   ]
  },
  {
   "cell_type": "markdown",
   "metadata": {},
   "source": [
    "Let’s start with necessary libraries:\n",
    "\n",
    "Install libraries via the pip command. Import the required packages that will be useful for scraping the data from the website."
   ]
  },
  {
   "cell_type": "code",
   "execution_count": 11,
   "metadata": {},
   "outputs": [],
   "source": [
    "!pip install requests pandas bs4  --upgrade --quiet"
   ]
  },
  {
   "cell_type": "code",
   "execution_count": 13,
   "metadata": {},
   "outputs": [],
   "source": [
    "import requests\n",
    "from bs4 import BeautifulSoup\n",
    "import pandas as pd"
   ]
  },
  {
   "cell_type": "markdown",
   "metadata": {},
   "source": [
    " Libraries are now downloaded, install and imported"
   ]
  },
  {
   "cell_type": "markdown",
   "metadata": {},
   "source": [
    "## Download and Parse the Best seller  HTML page source code using resquest and Beautifulsoup to get  item categories topics URL."
   ]
  },
  {
   "cell_type": "markdown",
   "metadata": {},
   "source": [
    "We use the `get` function from `resquest` library to download th page. We define a [User-Agent](https://developer.mozilla.org/en-US/docs/Web/HTTP/Headers/User-Agent) header string to let servers and network peers identify the application, operating system, vendor, and/or version of the requesting. It help bypassing the detection as a scraper."
   ]
  },
  {
   "cell_type": "code",
   "execution_count": 14,
   "metadata": {},
   "outputs": [],
   "source": [
    "url =\"https://www.amazon.com/Best-Sellers/zgbs/ref=zg_bs_unv_ac_0_ac_1\"\n",
    "\n",
    "HEADERS ={\"User-Agent\":\"Mozilla/5.0 (Windows NT 10.0; Win64; x64; rv:66.0) Gecko/20100101 Firefox/66.0\", \"Accept-Encoding\":\"gzip, deflate\", \"Accept\":\"text/html,application/xhtml+xml,application/xml;q=0.9,*/*;q=0.8\", \"DNT\":\"1\",\"Connection\":\"close\", \"Upgrade-Insecure-Requests\":\"1\"}"
   ]
  },
  {
   "cell_type": "code",
   "execution_count": 15,
   "metadata": {},
   "outputs": [],
   "source": [
    "response = requests.get(url, headers=HEADERS)"
   ]
  },
  {
   "cell_type": "code",
   "execution_count": 16,
   "metadata": {},
   "outputs": [
    {
     "name": "stdout",
     "output_type": "stream",
     "text": [
      "<Response [200]>\n"
     ]
    }
   ],
   "source": [
    "print(response)"
   ]
  },
  {
   "cell_type": "markdown",
   "metadata": {},
   "source": [
    "The `requests.get` returns a response object containing the data from the web page. The `.status_code` property is use to check if the response was successful.\n",
    "A successfull response will have the [HTTP response](https://developer.mozilla.org/en-US/docs/Web/HTTP/Status) code in between 200 and 299"
   ]
  },
  {
   "cell_type": "code",
   "execution_count": 17,
   "metadata": {},
   "outputs": [
    {
     "data": {
      "text/plain": [
       "'<!doctype html><html lang=\"en-us\" class=\"a-no-js\" data-19ax5a9jf=\"dingo\"><!-- sp:feature:head-start -->\\n<head><script>var aPageStart = (new Date()).getTime();</script><meta charset=\"utf-8\"/>\\n\\n<script type=\\'text/javascript\\'>var ue_t0=ue_t0||+new Date();</script>\\n<!-- sp:feature:cs-optimization -->\\n<meta http-equiv=\\'x-dns-prefetch-control\\' content=\\'on\\'>\\n<link rel=\"dns-prefetch\" href=\"https://images-na.ssl-images-amazon.com\">\\n<link rel=\"dns-prefetch\" href=\"https://m.media-amazon.com\">\\n<link rel=\"dn'"
      ]
     },
     "execution_count": 17,
     "metadata": {},
     "output_type": "execute_result"
    }
   ],
   "source": [
    "response.text[:500]"
   ]
  },
  {
   "cell_type": "markdown",
   "metadata": {},
   "source": [
    "`response.text` can be used to look at the page contents we just downloaded, we can also check the length by apply `len(response.text)`. Here we just print the first 500 characters of the page content."
   ]
  },
  {
   "cell_type": "markdown",
   "metadata": {},
   "source": [
    "Let's save the contents to a file with the [html](https://en.wikipedia.org/wiki/HTML#:~:text=The%20HyperText%20Markup%20Language%2C%20or,displayed%20in%20a%20web%20browser.) extension."
   ]
  },
  {
   "cell_type": "code",
   "execution_count": 18,
   "metadata": {},
   "outputs": [],
   "source": [
    "with open(\"bestseller.html\",\"w\") as f:\n",
    "    f.write(response.text)"
   ]
  },
  {
   "cell_type": "markdown",
   "metadata": {},
   "source": [
    "We can view the file using the \"File > Open\" menu option within Jupyter and clicking on bestseller.html in the list of files displayed. "
   ]
  },
  {
   "cell_type": "markdown",
   "metadata": {},
   "source": [
    "![File](https://i.imgur.com/sv8WP4r.png)"
   ]
  },
  {
   "cell_type": "markdown",
   "metadata": {},
   "source": [
    "We can also paid attention to the file size, for this task having close to 250kB as file size means the page has a content and have been successfuly downloaded where having about 6.6kB as file size means failed to download the exact page content. Failling can be because of captcha, or others security condition the web page request."
   ]
  },
  {
   "cell_type": "markdown",
   "metadata": {},
   "source": [
    " Here is what we see when we open the file By clicking on it:\n",
    " \n",
    " \n",
    " ![Bestseller](https://i.imgur.com/6YJgwI7.png)"
   ]
  },
  {
   "cell_type": "markdown",
   "metadata": {},
   "source": [
    "While this looks similar to the original web page, note that it's simply a copy. You will notice that none of the links or buttons work. To view or edit the source code of the file, click \"File > Open\" within Jupyter, then select the file bestseller.html from the list and click the \"Edit\" button"
   ]
  },
  {
   "cell_type": "markdown",
   "metadata": {},
   "source": [
    "![source code](https://i.imgur.com/iAXyCOW.png)"
   ]
  },
  {
   "cell_type": "code",
   "execution_count": 19,
   "metadata": {},
   "outputs": [],
   "source": [
    "with open(\"bestseller.html\",\"r\") as f:\n",
    "    html_content = f.read()"
   ]
  },
  {
   "cell_type": "code",
   "execution_count": 20,
   "metadata": {},
   "outputs": [
    {
     "data": {
      "text/plain": [
       "'<!doctype html><html lang=\"en-us\" class=\"a-no-js\" data-19ax5a9jf=\"dingo\"><!-- sp:feature:head-start -->\\n<head><script>var aPageStart = (new Date()).getTime();</script><meta charset=\"utf-8\"/>\\n\\n<script type=\\'text/javascript\\'>var ue_t0=ue_t0||+new Date();</script>\\n<!-- sp:feature:cs-optimization -->\\n<meta http-equiv=\\'x-dns-prefetch-control\\' content=\\'on\\'>\\n<link rel=\"dns-prefetch\" href=\"https://images-na.ssl-images-amazon.com\">\\n<link rel=\"dns-prefetch\" href=\"https://m.media-amazon.com\">\\n<link rel=\"dn'"
      ]
     },
     "execution_count": 20,
     "metadata": {},
     "output_type": "execute_result"
    }
   ],
   "source": [
    "html_content[:500]"
   ]
  },
  {
   "cell_type": "markdown",
   "metadata": {},
   "source": [
    "We have just read the file content and print the first  500 characters.\n",
    "Now  we parse the web page information using `BeautifulSoup` and check to see the type"
   ]
  },
  {
   "cell_type": "code",
   "execution_count": 21,
   "metadata": {},
   "outputs": [],
   "source": [
    "content = BeautifulSoup(html_content,\"html.parser\")"
   ]
  },
  {
   "cell_type": "code",
   "execution_count": 22,
   "metadata": {},
   "outputs": [
    {
     "data": {
      "text/plain": [
       "bs4.BeautifulSoup"
      ]
     },
     "execution_count": 22,
     "metadata": {},
     "output_type": "execute_result"
    }
   ],
   "source": [
    "type(content)"
   ]
  },
  {
   "cell_type": "markdown",
   "metadata": {},
   "source": [
    "Let's accessing parent's tag and find all information data tags Attributes"
   ]
  },
  {
   "cell_type": "code",
   "execution_count": 23,
   "metadata": {},
   "outputs": [],
   "source": [
    "doc = content.find(\"ul\",{\"id\":\"zg_browseRoot\"})\n",
    "hearder_link_tags = doc.find_all(\"li\")"
   ]
  },
  {
   "cell_type": "markdown",
   "metadata": {},
   "source": [
    "Here we find variety of item topics(categories) Url and their title, then store in a dictionary"
   ]
  },
  {
   "cell_type": "code",
   "execution_count": 24,
   "metadata": {},
   "outputs": [],
   "source": [
    "############## find and get different item categories description and Url at any department \n",
    "topics_link = []\n",
    "for tag in hearder_link_tags[1:]:\n",
    "#     print(tag)\n",
    "        topics_link.append({\n",
    "        \"title\": tag.text.strip(),\n",
    "        \"url\": tag.find(\"a\")[\"href\"] })\n",
    "#################store in dictionary\n",
    "table_topics = { k:[ d.get(k) for d in topics_link]\n",
    "                   for k in set().union(*topics_link)}"
   ]
  },
  {
   "cell_type": "markdown",
   "metadata": {},
   "source": [
    "Let's print and see all categories topics found on bestseller."
   ]
  },
  {
   "cell_type": "code",
   "execution_count": 25,
   "metadata": {},
   "outputs": [
    {
     "data": {
      "text/plain": [
       "{'url': ['https://www.amazon.com/Best-Sellers/zgbs/amazon-devices/ref=zg_bs_nav_0/138-0735230-1420505',\n",
       "  'https://www.amazon.com/Best-Sellers-Amazon-Launchpad/zgbs/boost/ref=zg_bs_nav_0/138-0735230-1420505',\n",
       "  'https://www.amazon.com/Best-Sellers-Appliances/zgbs/appliances/ref=zg_bs_nav_0/138-0735230-1420505',\n",
       "  'https://www.amazon.com/Best-Sellers-Appstore-Android/zgbs/mobile-apps/ref=zg_bs_nav_0/138-0735230-1420505',\n",
       "  'https://www.amazon.com/Best-Sellers-Arts-Crafts-Sewing/zgbs/arts-crafts/ref=zg_bs_nav_0/138-0735230-1420505',\n",
       "  'https://www.amazon.com/Best-Sellers-Audible-Audiobooks/zgbs/audible/ref=zg_bs_nav_0/138-0735230-1420505',\n",
       "  'https://www.amazon.com/Best-Sellers-Automotive/zgbs/automotive/ref=zg_bs_nav_0/138-0735230-1420505',\n",
       "  'https://www.amazon.com/Best-Sellers-Baby/zgbs/baby-products/ref=zg_bs_nav_0/138-0735230-1420505',\n",
       "  'https://www.amazon.com/Best-Sellers-Beauty/zgbs/beauty/ref=zg_bs_nav_0/138-0735230-1420505',\n",
       "  'https://www.amazon.com/best-sellers-books-Amazon/zgbs/books/ref=zg_bs_nav_0/138-0735230-1420505',\n",
       "  'https://www.amazon.com/best-sellers-music-albums/zgbs/music/ref=zg_bs_nav_0/138-0735230-1420505',\n",
       "  'https://www.amazon.com/best-sellers-camera-photo/zgbs/photo/ref=zg_bs_nav_0/138-0735230-1420505',\n",
       "  'https://www.amazon.com/Best-Sellers/zgbs/wireless/ref=zg_bs_nav_0/138-0735230-1420505',\n",
       "  'https://www.amazon.com/Best-Sellers/zgbs/fashion/ref=zg_bs_nav_0/138-0735230-1420505',\n",
       "  'https://www.amazon.com/Best-Sellers-Collectible-Coins/zgbs/coins/ref=zg_bs_nav_0/138-0735230-1420505',\n",
       "  'https://www.amazon.com/Best-Sellers-Computers-Accessories/zgbs/pc/ref=zg_bs_nav_0/138-0735230-1420505',\n",
       "  'https://www.amazon.com/Best-Sellers/zgbs/digital-educational-resources/ref=zg_bs_nav_0/138-0735230-1420505',\n",
       "  'https://www.amazon.com/Best-Sellers-MP3-Downloads/zgbs/dmusic/ref=zg_bs_nav_0/138-0735230-1420505',\n",
       "  'https://www.amazon.com/Best-Sellers-Electronics/zgbs/electronics/ref=zg_bs_nav_0/138-0735230-1420505',\n",
       "  'https://www.amazon.com/Best-Sellers-Entertainment-Collectibles/zgbs/entertainment-collectibles/ref=zg_bs_nav_0/138-0735230-1420505',\n",
       "  'https://www.amazon.com/Best-Sellers-Gift-Cards/zgbs/gift-cards/ref=zg_bs_nav_0/138-0735230-1420505',\n",
       "  'https://www.amazon.com/Best-Sellers-Grocery-Gourmet-Food/zgbs/grocery/ref=zg_bs_nav_0/138-0735230-1420505',\n",
       "  'https://www.amazon.com/Best-Sellers-Handmade/zgbs/handmade/ref=zg_bs_nav_0/138-0735230-1420505',\n",
       "  'https://www.amazon.com/Best-Sellers-Health-Personal-Care/zgbs/hpc/ref=zg_bs_nav_0/138-0735230-1420505',\n",
       "  'https://www.amazon.com/Best-Sellers-Home-Kitchen/zgbs/home-garden/ref=zg_bs_nav_0/138-0735230-1420505',\n",
       "  'https://www.amazon.com/Best-Sellers-Industrial-Scientific/zgbs/industrial/ref=zg_bs_nav_0/138-0735230-1420505',\n",
       "  'https://www.amazon.com/Best-Sellers-Kindle-Store/zgbs/digital-text/ref=zg_bs_nav_0/138-0735230-1420505',\n",
       "  'https://www.amazon.com/Best-Sellers-Kitchen-Dining/zgbs/kitchen/ref=zg_bs_nav_0/138-0735230-1420505',\n",
       "  'https://www.amazon.com/Best-Sellers-Magazines/zgbs/magazines/ref=zg_bs_nav_0/138-0735230-1420505',\n",
       "  'https://www.amazon.com/best-sellers-movies-TV-DVD-Blu-ray/zgbs/movies-tv/ref=zg_bs_nav_0/138-0735230-1420505',\n",
       "  'https://www.amazon.com/Best-Sellers-Musical-Instruments/zgbs/musical-instruments/ref=zg_bs_nav_0/138-0735230-1420505',\n",
       "  'https://www.amazon.com/Best-Sellers-Office-Products/zgbs/office-products/ref=zg_bs_nav_0/138-0735230-1420505',\n",
       "  'https://www.amazon.com/Best-Sellers-Garden-Outdoor/zgbs/lawn-garden/ref=zg_bs_nav_0/138-0735230-1420505',\n",
       "  'https://www.amazon.com/Best-Sellers-Pet-Supplies/zgbs/pet-supplies/ref=zg_bs_nav_0/138-0735230-1420505',\n",
       "  'https://www.amazon.com/best-sellers-software/zgbs/software/ref=zg_bs_nav_0/138-0735230-1420505',\n",
       "  'https://www.amazon.com/Best-Sellers-Sports-Outdoors/zgbs/sporting-goods/ref=zg_bs_nav_0/138-0735230-1420505',\n",
       "  'https://www.amazon.com/Best-Sellers-Sports-Collectibles/zgbs/sports-collectibles/ref=zg_bs_nav_0/138-0735230-1420505',\n",
       "  'https://www.amazon.com/Best-Sellers-Home-Improvement/zgbs/hi/ref=zg_bs_nav_0/138-0735230-1420505',\n",
       "  'https://www.amazon.com/Best-Sellers-Toys-Games/zgbs/toys-and-games/ref=zg_bs_nav_0/138-0735230-1420505',\n",
       "  'https://www.amazon.com/best-sellers-video-games/zgbs/videogames/ref=zg_bs_nav_0/138-0735230-1420505'],\n",
       " 'title': ['Amazon Devices & Accessories',\n",
       "  'Amazon Launchpad',\n",
       "  'Appliances',\n",
       "  'Apps & Games',\n",
       "  'Arts, Crafts & Sewing',\n",
       "  'Audible Books & Originals',\n",
       "  'Automotive',\n",
       "  'Baby',\n",
       "  'Beauty & Personal Care',\n",
       "  'Books',\n",
       "  'CDs & Vinyl',\n",
       "  'Camera & Photo Products',\n",
       "  'Cell Phones & Accessories',\n",
       "  'Clothing, Shoes & Jewelry',\n",
       "  'Collectible Currencies',\n",
       "  'Computers & Accessories',\n",
       "  'Digital Educational Resources',\n",
       "  'Digital Music',\n",
       "  'Electronics',\n",
       "  'Entertainment Collectibles',\n",
       "  'Gift Cards',\n",
       "  'Grocery & Gourmet Food',\n",
       "  'Handmade Products',\n",
       "  'Health & Household',\n",
       "  'Home & Kitchen',\n",
       "  'Industrial & Scientific',\n",
       "  'Kindle Store',\n",
       "  'Kitchen & Dining',\n",
       "  'Magazine Subscriptions',\n",
       "  'Movies & TV',\n",
       "  'Musical Instruments',\n",
       "  'Office Products',\n",
       "  'Patio, Lawn & Garden',\n",
       "  'Pet Supplies',\n",
       "  'Software',\n",
       "  'Sports & Outdoors',\n",
       "  'Sports Collectibles',\n",
       "  'Tools & Home Improvement',\n",
       "  'Toys & Games',\n",
       "  'Video Games']}"
      ]
     },
     "execution_count": 25,
     "metadata": {},
     "output_type": "execute_result"
    }
   ],
   "source": [
    "table_topics"
   ]
  },
  {
   "cell_type": "code",
   "execution_count": 26,
   "metadata": {},
   "outputs": [
    {
     "data": {
      "text/plain": [
       "40"
      ]
     },
     "execution_count": 26,
     "metadata": {},
     "output_type": "execute_result"
    }
   ],
   "source": [
    "len(table_topics[\"url\"])"
   ]
  },
  {
   "cell_type": "markdown",
   "metadata": {},
   "source": [
    "We obtain a variety of 40 topics or category on Bestseller page"
   ]
  },
  {
   "cell_type": "markdown",
   "metadata": {},
   "source": [
    "## Repeat setp 2 for each item category obtained using corresponding URL "
   ]
  },
  {
   "cell_type": "markdown",
   "metadata": {},
   "source": [
    "Let's import `time` library, to avoid facing several pages access denied by captcha we will observe few secondes sleeping time between each page request by applying function sleep from [time](https://docs.python.org/3/library/time.html) library."
   ]
  },
  {
   "cell_type": "code",
   "execution_count": 35,
   "metadata": {},
   "outputs": [],
   "source": [
    "import time \n",
    "import numpy as np"
   ]
  },
  {
   "cell_type": "markdown",
   "metadata": {},
   "source": [
    "Here we defined a funtion `parse_page` to fetch and parse each single page url downloaded from the topic existing in any department of best seller "
   ]
  },
  {
   "cell_type": "code",
   "execution_count": 36,
   "metadata": {},
   "outputs": [],
   "source": [
    "def fetch(url):\n",
    "    ''' The function take url and headers to download and parse the page using request.get and BeautifulSoup library\n",
    "    it return a parent tag of typeBeautifulSoup object\n",
    "    Argument:\n",
    "    -url(string): web page url to be downloaded and parse\n",
    "    Return:\n",
    "    -doc(Beautiful 0bject): it's the parent tag containing the information that we need parsed from the page'''\n",
    "    HEADERS= {\"User-Agent\":\"Mozilla/5.0 (Windows NT 10.0; Win64; x64; rv:66.0) Gecko/20100101 Firefox/66.0\", \"Accept-Encoding\":\"gzip, deflate\", \"Accept\":\"text/html,application/xhtml+xml,application/xml;q=0.9,*/*;q=0.8\", \"DNT\":\"1\",\"Connection\":\"close\", \"Upgrade-Insecure-Requests\":\"1\"}\n",
    "    response = requests.get(url,headers= HEADERS)\n",
    "    if response.status_code != 200:\n",
    "        print(\"Status code:\", response.status_code)\n",
    "        raise Exception(\"Failed to link to web page \" + topic_url)\n",
    "    page_content  = BeautifulSoup(response.text,\"html.parser\")\n",
    "    doc = page_content.findAll('div', attrs={'class':'a-section a-spacing-none aok-relative'})\n",
    "    return doc"
   ]
  },
  {
   "cell_type": "code",
   "execution_count": 111,
   "metadata": {},
   "outputs": [],
   "source": [
    "def parse_page(table_topics,pageNo):\n",
    "    \"\"\"The function take all topic categories and number of page to parse for each topic as input, apply get request to download each\n",
    "    page, the use Beautifulsoup to parse the page. the function output are article_tags list containing all pages content, t_description\n",
    "    list containing correspponding topic or categories then an url list for corresponding Url.\n",
    "    Argument:\n",
    "    -table_topics(dict): dictionary containing topic description and url\n",
    "    -pageNo(int): number of page to parse per topic\n",
    "    Return:\n",
    "    -article_tags(list): list containing successfully parsed pages content where each index is a Beautifulsoup type\n",
    "    -t_description(list): list containing  successfully parsed topic description\n",
    "    -t_url(list): list containing successfully parsed page topic url\n",
    "    -fail_tags(list): list containing pages url that failed first parsing \n",
    "    -failed_topic(list): list contaning pages topic description that failed first parsing\n",
    "    \"\"\"\n",
    "    article_tags,t_description, t_url,fail_tags,failed_topic =[],[],[],[],[]\n",
    "    for i in range(0,len(table_topics[\"url\"])):\n",
    "         # take the url\n",
    "        topic_url = table_topics[\"url\"][i]\n",
    "        topics_description =  table_topics[\"title\"][i]\n",
    "        try:\n",
    "            for j in range(1,pageNo+1):\n",
    "                ref = topic_url.find(\"ref\")\n",
    "                url = topic_url[:ref]+\"ref=zg_bs_pg_\"+str(j)+\"?_encoding=UTF8&pg=\"+str(j)\n",
    "                time.sleep(10)\n",
    "                #use resquest to obtain HMTL page content   +str(pageNo)+\n",
    "                doc = fetch(url)\n",
    "                if len(doc)==0:\n",
    "                    print(\"failed to parse page{}\".format(url))\n",
    "                    fail_tags.append(url)\n",
    "                    failed_topic.append(topics_description)\n",
    "                else:\n",
    "                    print(\"Sucsessfully parse:\",url)\n",
    "                    article_tags.append(doc)\n",
    "                    t_description.append(topics_description)\n",
    "                    t_url.append(topic_url) \n",
    "        except Exception as e:\n",
    "            print(e)\n",
    "    return article_tags,t_description,t_url,fail_tags,failed_topic"
   ]
  },
  {
   "cell_type": "markdown",
   "metadata": {},
   "source": [
    "Here we defined the `reparse_failed_page` to try for a second time fetching and parsing pages that failed in first attempt, we try using a while loop to repeat\n",
    "still getting successfully parsing but it do failed even when applying a sleeping time. We decide to defined this function "
   ]
  },
  {
   "cell_type": "code",
   "execution_count": 112,
   "metadata": {},
   "outputs": [],
   "source": [
    "def reparse_failed_page(fail_page_url,failed_topic):\n",
    "    \"\"\"The function take topic categories url, and description that failed to be accessible due to captcha in the first parsing process,\n",
    "     try to fetch and parse thoses page for a second time.\n",
    "     the function return article_tags list containing all pages content, topic_description,topic_url and other pages url and topic that failed to load content again\n",
    "    Argument:\n",
    "    -fail_page_url(dict): list containing failed first parsing web page url \n",
    "    -failed_topic(int): list contaning failed first parsing ictionary containing topic description and url\n",
    "    Return:\n",
    "    -article_tags2(list): list containing successfully parsed pages content where each index is a Beautifulsoup type\n",
    "    -t_description(list): list containing  successfully parsed topic description\n",
    "    -t_url(list): list containing successfully parsed page topic url\n",
    "    -fail_p(list): list containing pages url that failed again \n",
    "    -fail_t(list): list contaning pages topic description that failed gain \n",
    "    \"\"\"\n",
    "    print(\"check if there is any failed pages,then print number:\",len(fail_page_url))\n",
    "    article_tag2, topic_url, topic_d, fail_p, fail_t = [],[],[],[],[]\n",
    "    try:\n",
    "        for i in range(len(fail_page_url)):\n",
    "            time.sleep(20)\n",
    "            doc = fetch(url)\n",
    "            if len(doc)==0:\n",
    "                print(\"page{}failed again\".format(fail_page_url[i]))\n",
    "                fail_p.append(fail_page_url[i])\n",
    "                fail_t.append(failed_topic[i])\n",
    "            else:\n",
    "                article_tag2.append(doc)\n",
    "                topic_url.append(fail_page_url[i])\n",
    "                topic_d.append(failed_topic[i])\n",
    "    except Exception as e:\n",
    "        print(e)\n",
    "    return article_tag2,topic_d,topic_url,fail_p,fail_t"
   ]
  },
  {
   "cell_type": "markdown",
   "metadata": {},
   "source": [
    "Here we defined the `parse` function where the 2 level parsing will be done to get maximum number of page to parse "
   ]
  },
  {
   "cell_type": "code",
   "execution_count": 113,
   "metadata": {},
   "outputs": [],
   "source": [
    "def parse(table_topics,pageNo):\n",
    "    \"\"\"The function take table_topics, and number of page to parse for ecah topic url,the main purpose of this funtion is \n",
    "     to realize a double attempt to parse maximum number of pages it can .It's a combination of result getting from first \n",
    "     and second parse.\n",
    "     Argument\n",
    "     -table_topics(dict): dictionary containing topic description and url\n",
    "     -pageNo(int): number of page to parse per topic\n",
    "     Return:\n",
    "     -all_arcticle_tag(list): list containing all successfully parsed pages content where each index is a Beautifulsoup type\n",
    "     -all_topics_description(list): list containing  all successfully parsed topic description\n",
    "     -all_topics_url(list): list containing all successfully parsed page topic url\n",
    "    \"\"\"\n",
    "    article_tags,t_description,t_url,fail_tags,failed_topic = parse_page(table_topics,pageNo)\n",
    "    if len(fail_tags)!=0:\n",
    "        article_tags2,t_description2,t_url2,fail_tags2,failed_topic2 = reparse_failed_page(fail_tags,failed_topic)\n",
    "        all_arcticle_tag = [*article_tags,*article_tags2]\n",
    "        all_topics_description = [*t_description,*t_description2]\n",
    "        all_topics_url = [*t_url,*t_url2]\n",
    "        #return all_arcticle_tag,all_topics_description,all_topics_url\n",
    "    else:\n",
    "        print(\"successfully parsed all pages\")\n",
    "        all_arcticle_tag =   article_tags\n",
    "        all_topics_description =t_description\n",
    "        all_topics_url = t_url\n",
    "       # return article_tags,t_description,t_url,fail_tags,failed_topic\n",
    "    return all_arcticle_tag,all_topics_description,all_topics_url"
   ]
  },
  {
   "cell_type": "code",
   "execution_count": 65,
   "metadata": {},
   "outputs": [
    {
     "name": "stdout",
     "output_type": "stream",
     "text": [
      "Sucsessfully parse: https://www.amazon.com/Best-Sellers/zgbs/amazon-devices/ref=zg_bs_pg_1?_encoding=UTF8&pg=1\n",
      "Sucsessfully parse: https://www.amazon.com/Best-Sellers/zgbs/amazon-devices/ref=zg_bs_pg_2?_encoding=UTF8&pg=2\n",
      "Sucsessfully parse: https://www.amazon.com/Best-Sellers-Amazon-Launchpad/zgbs/boost/ref=zg_bs_pg_1?_encoding=UTF8&pg=1\n",
      "Sucsessfully parse: https://www.amazon.com/Best-Sellers-Amazon-Launchpad/zgbs/boost/ref=zg_bs_pg_2?_encoding=UTF8&pg=2\n",
      "Sucsessfully parse: https://www.amazon.com/Best-Sellers-Appliances/zgbs/appliances/ref=zg_bs_pg_1?_encoding=UTF8&pg=1\n",
      "Sucsessfully parse: https://www.amazon.com/Best-Sellers-Appliances/zgbs/appliances/ref=zg_bs_pg_2?_encoding=UTF8&pg=2\n",
      "Sucsessfully parse: https://www.amazon.com/Best-Sellers-Appstore-Android/zgbs/mobile-apps/ref=zg_bs_pg_1?_encoding=UTF8&pg=1\n",
      "Sucsessfully parse: https://www.amazon.com/Best-Sellers-Appstore-Android/zgbs/mobile-apps/ref=zg_bs_pg_2?_encoding=UTF8&pg=2\n",
      "Sucsessfully parse: https://www.amazon.com/Best-Sellers-Arts-Crafts-Sewing/zgbs/arts-crafts/ref=zg_bs_pg_1?_encoding=UTF8&pg=1\n",
      "Sucsessfully parse: https://www.amazon.com/Best-Sellers-Arts-Crafts-Sewing/zgbs/arts-crafts/ref=zg_bs_pg_2?_encoding=UTF8&pg=2\n",
      "Sucsessfully parse: https://www.amazon.com/Best-Sellers-Audible-Audiobooks/zgbs/audible/ref=zg_bs_pg_1?_encoding=UTF8&pg=1\n",
      "Sucsessfully parse: https://www.amazon.com/Best-Sellers-Audible-Audiobooks/zgbs/audible/ref=zg_bs_pg_2?_encoding=UTF8&pg=2\n",
      "Sucsessfully parse: https://www.amazon.com/Best-Sellers-Automotive/zgbs/automotive/ref=zg_bs_pg_1?_encoding=UTF8&pg=1\n",
      "Sucsessfully parse: https://www.amazon.com/Best-Sellers-Automotive/zgbs/automotive/ref=zg_bs_pg_2?_encoding=UTF8&pg=2\n",
      "Sucsessfully parse: https://www.amazon.com/Best-Sellers-Baby/zgbs/baby-products/ref=zg_bs_pg_1?_encoding=UTF8&pg=1\n",
      "Sucsessfully parse: https://www.amazon.com/Best-Sellers-Baby/zgbs/baby-products/ref=zg_bs_pg_2?_encoding=UTF8&pg=2\n",
      "Sucsessfully parse: https://www.amazon.com/Best-Sellers-Beauty/zgbs/beauty/ref=zg_bs_pg_1?_encoding=UTF8&pg=1\n",
      "Sucsessfully parse: https://www.amazon.com/Best-Sellers-Beauty/zgbs/beauty/ref=zg_bs_pg_2?_encoding=UTF8&pg=2\n",
      "Sucsessfully parse: https://www.amazon.com/best-sellers-books-Amazon/zgbs/books/ref=zg_bs_pg_1?_encoding=UTF8&pg=1\n",
      "Sucsessfully parse: https://www.amazon.com/best-sellers-books-Amazon/zgbs/books/ref=zg_bs_pg_2?_encoding=UTF8&pg=2\n",
      "Sucsessfully parse: https://www.amazon.com/best-sellers-music-albums/zgbs/music/ref=zg_bs_pg_1?_encoding=UTF8&pg=1\n",
      "Sucsessfully parse: https://www.amazon.com/best-sellers-music-albums/zgbs/music/ref=zg_bs_pg_2?_encoding=UTF8&pg=2\n",
      "Sucsessfully parse: https://www.amazon.com/best-sellers-camera-photo/zgbs/photo/ref=zg_bs_pg_1?_encoding=UTF8&pg=1\n",
      "Sucsessfully parse: https://www.amazon.com/best-sellers-camera-photo/zgbs/photo/ref=zg_bs_pg_2?_encoding=UTF8&pg=2\n",
      "Sucsessfully parse: https://www.amazon.com/Best-Sellers/zgbs/wireless/ref=zg_bs_pg_1?_encoding=UTF8&pg=1\n",
      "failed to parse pagehttps://www.amazon.com/Best-Sellers/zgbs/wireless/ref=zg_bs_pg_2?_encoding=UTF8&pg=2\n",
      "Sucsessfully parse: https://www.amazon.com/Best-Sellers/zgbs/fashion/ref=zg_bs_pg_1?_encoding=UTF8&pg=1\n",
      "Sucsessfully parse: https://www.amazon.com/Best-Sellers/zgbs/fashion/ref=zg_bs_pg_2?_encoding=UTF8&pg=2\n",
      "Sucsessfully parse: https://www.amazon.com/Best-Sellers-Collectible-Coins/zgbs/coins/ref=zg_bs_pg_1?_encoding=UTF8&pg=1\n",
      "failed to parse pagehttps://www.amazon.com/Best-Sellers-Collectible-Coins/zgbs/coins/ref=zg_bs_pg_2?_encoding=UTF8&pg=2\n",
      "Sucsessfully parse: https://www.amazon.com/Best-Sellers-Computers-Accessories/zgbs/pc/ref=zg_bs_pg_1?_encoding=UTF8&pg=1\n",
      "Sucsessfully parse: https://www.amazon.com/Best-Sellers-Computers-Accessories/zgbs/pc/ref=zg_bs_pg_2?_encoding=UTF8&pg=2\n",
      "Sucsessfully parse: https://www.amazon.com/Best-Sellers/zgbs/digital-educational-resources/ref=zg_bs_pg_1?_encoding=UTF8&pg=1\n",
      "Sucsessfully parse: https://www.amazon.com/Best-Sellers/zgbs/digital-educational-resources/ref=zg_bs_pg_2?_encoding=UTF8&pg=2\n",
      "failed to parse pagehttps://www.amazon.com/Best-Sellers-MP3-Downloads/zgbs/dmusic/ref=zg_bs_pg_1?_encoding=UTF8&pg=1\n",
      "failed to parse pagehttps://www.amazon.com/Best-Sellers-MP3-Downloads/zgbs/dmusic/ref=zg_bs_pg_2?_encoding=UTF8&pg=2\n",
      "Sucsessfully parse: https://www.amazon.com/Best-Sellers-Electronics/zgbs/electronics/ref=zg_bs_pg_1?_encoding=UTF8&pg=1\n",
      "Sucsessfully parse: https://www.amazon.com/Best-Sellers-Electronics/zgbs/electronics/ref=zg_bs_pg_2?_encoding=UTF8&pg=2\n",
      "Sucsessfully parse: https://www.amazon.com/Best-Sellers-Entertainment-Collectibles/zgbs/entertainment-collectibles/ref=zg_bs_pg_1?_encoding=UTF8&pg=1\n",
      "Sucsessfully parse: https://www.amazon.com/Best-Sellers-Entertainment-Collectibles/zgbs/entertainment-collectibles/ref=zg_bs_pg_2?_encoding=UTF8&pg=2\n",
      "Sucsessfully parse: https://www.amazon.com/Best-Sellers-Gift-Cards/zgbs/gift-cards/ref=zg_bs_pg_1?_encoding=UTF8&pg=1\n",
      "Sucsessfully parse: https://www.amazon.com/Best-Sellers-Gift-Cards/zgbs/gift-cards/ref=zg_bs_pg_2?_encoding=UTF8&pg=2\n",
      "Sucsessfully parse: https://www.amazon.com/Best-Sellers-Grocery-Gourmet-Food/zgbs/grocery/ref=zg_bs_pg_1?_encoding=UTF8&pg=1\n",
      "Sucsessfully parse: https://www.amazon.com/Best-Sellers-Grocery-Gourmet-Food/zgbs/grocery/ref=zg_bs_pg_2?_encoding=UTF8&pg=2\n",
      "Sucsessfully parse: https://www.amazon.com/Best-Sellers-Handmade/zgbs/handmade/ref=zg_bs_pg_1?_encoding=UTF8&pg=1\n",
      "Sucsessfully parse: https://www.amazon.com/Best-Sellers-Handmade/zgbs/handmade/ref=zg_bs_pg_2?_encoding=UTF8&pg=2\n",
      "Sucsessfully parse: https://www.amazon.com/Best-Sellers-Health-Personal-Care/zgbs/hpc/ref=zg_bs_pg_1?_encoding=UTF8&pg=1\n",
      "Sucsessfully parse: https://www.amazon.com/Best-Sellers-Health-Personal-Care/zgbs/hpc/ref=zg_bs_pg_2?_encoding=UTF8&pg=2\n",
      "Sucsessfully parse: https://www.amazon.com/Best-Sellers-Home-Kitchen/zgbs/home-garden/ref=zg_bs_pg_1?_encoding=UTF8&pg=1\n",
      "Sucsessfully parse: https://www.amazon.com/Best-Sellers-Home-Kitchen/zgbs/home-garden/ref=zg_bs_pg_2?_encoding=UTF8&pg=2\n",
      "Sucsessfully parse: https://www.amazon.com/Best-Sellers-Industrial-Scientific/zgbs/industrial/ref=zg_bs_pg_1?_encoding=UTF8&pg=1\n",
      "Sucsessfully parse: https://www.amazon.com/Best-Sellers-Industrial-Scientific/zgbs/industrial/ref=zg_bs_pg_2?_encoding=UTF8&pg=2\n",
      "Sucsessfully parse: https://www.amazon.com/Best-Sellers-Kindle-Store/zgbs/digital-text/ref=zg_bs_pg_1?_encoding=UTF8&pg=1\n",
      "Sucsessfully parse: https://www.amazon.com/Best-Sellers-Kindle-Store/zgbs/digital-text/ref=zg_bs_pg_2?_encoding=UTF8&pg=2\n",
      "Sucsessfully parse: https://www.amazon.com/Best-Sellers-Kitchen-Dining/zgbs/kitchen/ref=zg_bs_pg_1?_encoding=UTF8&pg=1\n",
      "Sucsessfully parse: https://www.amazon.com/Best-Sellers-Kitchen-Dining/zgbs/kitchen/ref=zg_bs_pg_2?_encoding=UTF8&pg=2\n",
      "Sucsessfully parse: https://www.amazon.com/Best-Sellers-Magazines/zgbs/magazines/ref=zg_bs_pg_1?_encoding=UTF8&pg=1\n",
      "Sucsessfully parse: https://www.amazon.com/Best-Sellers-Magazines/zgbs/magazines/ref=zg_bs_pg_2?_encoding=UTF8&pg=2\n",
      "Sucsessfully parse: https://www.amazon.com/best-sellers-movies-TV-DVD-Blu-ray/zgbs/movies-tv/ref=zg_bs_pg_1?_encoding=UTF8&pg=1\n",
      "Sucsessfully parse: https://www.amazon.com/best-sellers-movies-TV-DVD-Blu-ray/zgbs/movies-tv/ref=zg_bs_pg_2?_encoding=UTF8&pg=2\n",
      "Sucsessfully parse: https://www.amazon.com/Best-Sellers-Musical-Instruments/zgbs/musical-instruments/ref=zg_bs_pg_1?_encoding=UTF8&pg=1\n",
      "Sucsessfully parse: https://www.amazon.com/Best-Sellers-Musical-Instruments/zgbs/musical-instruments/ref=zg_bs_pg_2?_encoding=UTF8&pg=2\n",
      "Sucsessfully parse: https://www.amazon.com/Best-Sellers-Office-Products/zgbs/office-products/ref=zg_bs_pg_1?_encoding=UTF8&pg=1\n",
      "Sucsessfully parse: https://www.amazon.com/Best-Sellers-Office-Products/zgbs/office-products/ref=zg_bs_pg_2?_encoding=UTF8&pg=2\n",
      "Sucsessfully parse: https://www.amazon.com/Best-Sellers-Garden-Outdoor/zgbs/lawn-garden/ref=zg_bs_pg_1?_encoding=UTF8&pg=1\n",
      "Sucsessfully parse: https://www.amazon.com/Best-Sellers-Garden-Outdoor/zgbs/lawn-garden/ref=zg_bs_pg_2?_encoding=UTF8&pg=2\n",
      "Sucsessfully parse: https://www.amazon.com/Best-Sellers-Pet-Supplies/zgbs/pet-supplies/ref=zg_bs_pg_1?_encoding=UTF8&pg=1\n",
      "Sucsessfully parse: https://www.amazon.com/Best-Sellers-Pet-Supplies/zgbs/pet-supplies/ref=zg_bs_pg_2?_encoding=UTF8&pg=2\n",
      "Sucsessfully parse: https://www.amazon.com/best-sellers-software/zgbs/software/ref=zg_bs_pg_1?_encoding=UTF8&pg=1\n"
     ]
    },
    {
     "name": "stdout",
     "output_type": "stream",
     "text": [
      "Sucsessfully parse: https://www.amazon.com/best-sellers-software/zgbs/software/ref=zg_bs_pg_2?_encoding=UTF8&pg=2\n",
      "Sucsessfully parse: https://www.amazon.com/Best-Sellers-Sports-Outdoors/zgbs/sporting-goods/ref=zg_bs_pg_1?_encoding=UTF8&pg=1\n",
      "Sucsessfully parse: https://www.amazon.com/Best-Sellers-Sports-Outdoors/zgbs/sporting-goods/ref=zg_bs_pg_2?_encoding=UTF8&pg=2\n",
      "Sucsessfully parse: https://www.amazon.com/Best-Sellers-Sports-Collectibles/zgbs/sports-collectibles/ref=zg_bs_pg_1?_encoding=UTF8&pg=1\n",
      "Sucsessfully parse: https://www.amazon.com/Best-Sellers-Sports-Collectibles/zgbs/sports-collectibles/ref=zg_bs_pg_2?_encoding=UTF8&pg=2\n",
      "Sucsessfully parse: https://www.amazon.com/Best-Sellers-Home-Improvement/zgbs/hi/ref=zg_bs_pg_1?_encoding=UTF8&pg=1\n",
      "Sucsessfully parse: https://www.amazon.com/Best-Sellers-Home-Improvement/zgbs/hi/ref=zg_bs_pg_2?_encoding=UTF8&pg=2\n",
      "Sucsessfully parse: https://www.amazon.com/Best-Sellers-Toys-Games/zgbs/toys-and-games/ref=zg_bs_pg_1?_encoding=UTF8&pg=1\n",
      "Sucsessfully parse: https://www.amazon.com/Best-Sellers-Toys-Games/zgbs/toys-and-games/ref=zg_bs_pg_2?_encoding=UTF8&pg=2\n",
      "Sucsessfully parse: https://www.amazon.com/best-sellers-video-games/zgbs/videogames/ref=zg_bs_pg_1?_encoding=UTF8&pg=1\n",
      "Sucsessfully parse: https://www.amazon.com/best-sellers-video-games/zgbs/videogames/ref=zg_bs_pg_2?_encoding=UTF8&pg=2\n",
      "check if there is any failed pages,then print number: 4\n",
      "pagehttps://www.amazon.com/Best-Sellers/zgbs/wireless/ref=zg_bs_pg_2?_encoding=UTF8&pg=2failed again\n",
      "pagehttps://www.amazon.com/Best-Sellers-Collectible-Coins/zgbs/coins/ref=zg_bs_pg_2?_encoding=UTF8&pg=2failed again\n",
      "pagehttps://www.amazon.com/Best-Sellers-MP3-Downloads/zgbs/dmusic/ref=zg_bs_pg_1?_encoding=UTF8&pg=1failed again\n",
      "pagehttps://www.amazon.com/Best-Sellers-MP3-Downloads/zgbs/dmusic/ref=zg_bs_pg_2?_encoding=UTF8&pg=2failed again\n"
     ]
    }
   ],
   "source": [
    "all_arcticle_tag,all_topics_description,all_topics_url = parse(table_topics,2)"
   ]
  },
  {
   "cell_type": "markdown",
   "metadata": {},
   "source": [
    "Let's check on the number of pages we successfully parse out of 80 pages"
   ]
  },
  {
   "cell_type": "code",
   "execution_count": 66,
   "metadata": {},
   "outputs": [
    {
     "data": {
      "text/plain": [
       "76"
      ]
     },
     "execution_count": 66,
     "metadata": {},
     "output_type": "execute_result"
    }
   ],
   "source": [
    "len(all_arcticle_tag)"
   ]
  },
  {
   "cell_type": "markdown",
   "metadata": {},
   "source": [
    "##  Extract information data from each page "
   ]
  },
  {
   "cell_type": "markdown",
   "metadata": {},
   "source": [
    "Here we defined a function to extract information such as items description, rating, maximum price, minimum price, review, and image URL from the page. Information is extracted through corresponding HTML element from the parsed HTML page content.\n",
    "\n",
    "What is an HTML element?\n",
    "\n",
    "An HTML element is an ensemble consisting of the tag name, attributes, and child nodes(also include text nodes and other elements); Data can be extracted from an element, it can also manipulate the HTML.\n",
    "\n",
    "What stands for HTML Tag, Attributes and Child nodes?\n",
    "\n",
    "One easy way to understand what means an HTML tag is by answering questions such as how does a computer know what content to display, how to display it, and where to display it? what makes some text different than the others, distinguish the title from the main text or body paragraph. Most of what we listed is done by using an HTML tag which is a command in a web page that tells the browser to do something; Tags have the start `<>` and the ending`</>` brackets in order to work.\n",
    "\n",
    "HTML attributes (`href`, `src`, `class`, `id`,`alt` ,etc.) are a modifier of an HTML element type, used inside the opening tag to control the element's behavior; it provides additional information about the HTML elements. Example of attribute `class=\"intro\"` ,`id:\"firstname\"` .\n",
    "HTML Child nodes(or Children) are elements that are direct children, elements that are nested exactly in the given one. Example `<head>` and `<body>` are children of `<html>` element.\n",
    "Several different types of tags and attributes can be used in a single HMTL page content; Here we are going to find all HTML elements that contain the information we need by right-clicking on the specific part we want to get the corresponding information then select inspect the page. The picture below is an example to find item price tags information."
   ]
  },
  {
   "cell_type": "markdown",
   "metadata": {},
   "source": [
    "![price info](https://i.imgur.com/te6WBzI.png)"
   ]
  },
  {
   "cell_type": "markdown",
   "metadata": {},
   "source": [
    "Here we defined the `get_topic_url_item_description` function to  extract corresponding item description "
   ]
  },
  {
   "cell_type": "code",
   "execution_count": 67,
   "metadata": {},
   "outputs": [],
   "source": [
    "def get_topic_url_item_description(doc,topic_description,topic_url):\n",
    "    \"\"\"The funtion takes a parent tag attribute, topic description and topic url as input, after finding the item name tags,\n",
    "    the function return the item name(description), his corresponding topic(category) and his category url\n",
    "    Argument:\n",
    "    -doc(BeautifulSoup element): parents tag\n",
    "    -topic_description(string): topic name or category\n",
    "    -topic_url(string): topic url\n",
    "    Return:\n",
    "    -item_description(string): item name\n",
    "    -topic_description(string):corresponding topic\n",
    "    - topic_url(string): corresponding topic url\"\"\"\n",
    "    name = doc.find(\"span\", attrs={'class':'zg-text-center-align'})\n",
    "    try:\n",
    "        item_description = name.find_all('img', alt=True)[0][\"alt\"]\n",
    "    except:\n",
    "        item_description = ''\n",
    "    return item_description,topic_description,topic_url  "
   ]
  },
  {
   "cell_type": "markdown",
   "metadata": {},
   "source": [
    "Here we defined `get_item_price`  to extract corresponding item minimum and maximum price"
   ]
  },
  {
   "cell_type": "code",
   "execution_count": 68,
   "metadata": {},
   "outputs": [],
   "source": [
    "def get_item_price(d):\n",
    "    \"\"\"The function take a parent tag attribute as input and find for corresponding child tag(item price),\n",
    "    then return maximum price and minimum price for corresponding item and 0 when no price is found\n",
    "    Argument:\n",
    "    -d(BeautifulSoup element): parent tag\n",
    "    Return:\n",
    "    -min_price(float): item minimum price\n",
    "    -max_price(float): item maximum price\n",
    "    \"\"\"\n",
    "    p = d.find(\"span\",attrs={\"class\":\"a-size-base a-color-price\"})\n",
    "    try :\n",
    "        if \"-\" in p.text :\n",
    "            min_price = float(((p.text).split(\"-\")[0]).replace(\"$\",\"\"))\n",
    "            max_price = float((((p.text).split(\"-\")[1]).replace(\",\",\"\")).replace(\"$\",\"\"))\n",
    "        else :\n",
    "            min_price = float(((p.text[:5]).replace(\",\",\"\")).strip().replace(\"$\",\"\"))\n",
    "            max_price = 0.0\n",
    "    except:\n",
    "        min_price = 0.0\n",
    "        max_price = 0.0\n",
    "    return min_price,max_price"
   ]
  },
  {
   "cell_type": "markdown",
   "metadata": {},
   "source": [
    "Here we defined `get_item_rate` and  `get_item_review` funtion to  extract corresponding item rate and costumers review"
   ]
  },
  {
   "cell_type": "code",
   "execution_count": 69,
   "metadata": {},
   "outputs": [],
   "source": [
    "def get_item_rate(d):\n",
    "    \"\"\"The function take a parent tag attribute as input and find for corresponding child tag(rate),\n",
    "    then return item rating out of 5, and 0.0 when can't find a rate\n",
    "    Argument:\n",
    "    -d(BeautifulSoup element): parent tag\n",
    "    Return:\n",
    "    -rating(float): item rating out or 5\n",
    "    \"\"\"\n",
    "    rate = d.find(\"span\",attrs={\"class\":\"a-icon-alt\"})\n",
    "    try :\n",
    "        rating = float(rate.text[:3])\n",
    "    except:\n",
    "        rating = 0.0\n",
    "    return rating\n",
    "\n",
    "def get_item_review(d):\n",
    "    \"\"\"The function take a parent tag attribute as input and find for corresponding child tag(costumers review),\n",
    "    then return item review, and 0 when can't find number  of review\n",
    "    Argument:\n",
    "    -d(BeautifulSoup element): parent tag\n",
    "    Return:\n",
    "    -review(float): item costumer review\n",
    "    \"\"\"\n",
    "    review = d.find(\"a\",attrs ={\"class\":\"a-size-small a-link-normal\"})\n",
    "    try :\n",
    "        review = int((review.text).replace(\",\",\"\"))\n",
    "    except:\n",
    "        review = 0\n",
    "    return review"
   ]
  },
  {
   "cell_type": "markdown",
   "metadata": {},
   "source": [
    "Here we defined `get_item_url`  function to extract corresponding item image url"
   ]
  },
  {
   "cell_type": "code",
   "execution_count": 70,
   "metadata": {},
   "outputs": [],
   "source": [
    "def get_item_url(d):\n",
    "    \"\"\"The function take a parent tag attribute as input and find for corresponding child tag(image),\n",
    "    then return item image url, and 'no image' if can't find an image\n",
    "    -d(BeautifulSoup element): parent tag\n",
    "    Return:\n",
    "    -img(float): item image url\n",
    "    \"\"\"\n",
    "    image = d.findAll(\"img\", src = True)\n",
    "    try:\n",
    "        img = image[0][\"src\"]\n",
    "    except:\n",
    "        img = 'No image'\n",
    "    return img"
   ]
  },
  {
   "cell_type": "markdown",
   "metadata": {},
   "source": [
    "Item information data are extracted and directly store in a practicable data type to be convenient when making data analytic.\n",
    "\n",
    "Item description, image url are given string data type.\n",
    "\n",
    "Item price , rating are given float data type and costumer review integer data type."
   ]
  },
  {
   "cell_type": "markdown",
   "metadata": {},
   "source": [
    "## Combine data information extracted  from each pages  into a Python Dictionary\n"
   ]
  },
  {
   "cell_type": "markdown",
   "metadata": {},
   "source": [
    "Here we defined a function called `get_info` to collect all item information data needed as list of data and store in a dictionary "
   ]
  },
  {
   "cell_type": "code",
   "execution_count": 101,
   "metadata": {},
   "outputs": [],
   "source": [
    "def get_info(article_tags,t_description,t_url):\n",
    "    \"\"\"The function take a list of pages content which each index is a Beautiful element that will be use to find parent tag,list of topic description and  topic url then\n",
    "     the return a dictionary made of list of each item information data such as: his corresponding topic, the topic url,\n",
    "     the item description, minimum price(maximum price if exist), item rating, costumer review, and item image url\n",
    "    Argument:\n",
    "    -article_tags(list): list containing all pages content where each index is a Beautifulsoup type\n",
    "    -t_description(list): list containing  topic description\n",
    "    -t_url(list): list containing topic url\n",
    "    Return:\n",
    "    -dictionary(dict): dictionary containing all item information data taken from each parse page topic\n",
    "    \"\"\"\n",
    "    topic_description, topics_url, item, item_url = [],[],[],[]\n",
    "    minimum_price, maximum_price, rating, costuomer_review = [],[],[],[]\n",
    "    \n",
    "    for idx in range(0,len(article_tags)):\n",
    "        doc = article_tags[idx]#.findAll('div', attrs={'class':'a-section a-spacing-none aok-relative'})\n",
    "        for d in doc :\n",
    "            names,topic_name,topic_url = get_topic_url_item_description(d,t_description[idx],t_url[idx])\n",
    "            min_price,max_price = get_item_price(d)\n",
    "            rate = get_item_rate(d)\n",
    "            review = get_item_review(d)\n",
    "            url = get_item_url(d)\n",
    "            ####put each item data inside corresponding list\n",
    "            item.append(names)\n",
    "            topic_description.append(topic_name)\n",
    "            topics_url.append(topic_url)\n",
    "            minimum_price.append(min_price)\n",
    "            maximum_price.append(max_price)\n",
    "            rating.append(rate)\n",
    "            costuomer_review.append(review)\n",
    "            item_url.append(url)\n",
    "    return {\n",
    "           \"Topic\": topic_description,\n",
    "           \"Topic_url\": topics_url,\n",
    "           \"Item_description\": item,\n",
    "           \"Rating out of 5\": rating,\n",
    "           \"Minimum_price\": minimum_price,\n",
    "           \"Maximum_price\": maximum_price,\n",
    "           \"Review\" :costuomer_review,\n",
    "           \"Item Url\" : item_url}"
   ]
  },
  {
   "cell_type": "code",
   "execution_count": 102,
   "metadata": {},
   "outputs": [],
   "source": [
    "data = get_info(all_arcticle_tag,all_topics_description,all_topics_url)"
   ]
  },
  {
   "cell_type": "markdown",
   "metadata": {},
   "source": [
    "After 2 parsing attempt we got the maximum number of pages where we extracted data information, and now will have to store in a Dataframe using `Pandas` library."
   ]
  },
  {
   "cell_type": "markdown",
   "metadata": {},
   "source": [
    "## Save the information data to CSV file Using Pandas library"
   ]
  },
  {
   "cell_type": "markdown",
   "metadata": {},
   "source": [
    "Let's save the optained data to a pandas dataframe"
   ]
  },
  {
   "cell_type": "code",
   "execution_count": 103,
   "metadata": {},
   "outputs": [],
   "source": [
    "dataframe = pd.DataFrame(data)"
   ]
  },
  {
   "cell_type": "markdown",
   "metadata": {},
   "source": [
    "Let's print and see the result, the data length(number of rows, number of columns)"
   ]
  },
  {
   "cell_type": "code",
   "execution_count": 104,
   "metadata": {},
   "outputs": [
    {
     "data": {
      "text/html": [
       "<div>\n",
       "<style scoped>\n",
       "    .dataframe tbody tr th:only-of-type {\n",
       "        vertical-align: middle;\n",
       "    }\n",
       "\n",
       "    .dataframe tbody tr th {\n",
       "        vertical-align: top;\n",
       "    }\n",
       "\n",
       "    .dataframe thead th {\n",
       "        text-align: right;\n",
       "    }\n",
       "</style>\n",
       "<table border=\"1\" class=\"dataframe\">\n",
       "  <thead>\n",
       "    <tr style=\"text-align: right;\">\n",
       "      <th></th>\n",
       "      <th>Topic</th>\n",
       "      <th>Topic_url</th>\n",
       "      <th>Item_description</th>\n",
       "      <th>Rating out of 5</th>\n",
       "      <th>Minimum_price</th>\n",
       "      <th>Maximum_price</th>\n",
       "      <th>Review</th>\n",
       "      <th>Item Url</th>\n",
       "    </tr>\n",
       "  </thead>\n",
       "  <tbody>\n",
       "    <tr>\n",
       "      <th>0</th>\n",
       "      <td>Amazon Devices &amp; Accessories</td>\n",
       "      <td>https://www.amazon.com/Best-Sellers/zgbs/amazo...</td>\n",
       "      <td>Fire TV Stick 4K streaming device with Alexa V...</td>\n",
       "      <td>4.7</td>\n",
       "      <td>39.90</td>\n",
       "      <td>0.00</td>\n",
       "      <td>615786</td>\n",
       "      <td>https://images-na.ssl-images-amazon.com/images...</td>\n",
       "    </tr>\n",
       "    <tr>\n",
       "      <th>1</th>\n",
       "      <td>Amazon Devices &amp; Accessories</td>\n",
       "      <td>https://www.amazon.com/Best-Sellers/zgbs/amazo...</td>\n",
       "      <td>Fire TV Stick (3rd Gen) with Alexa Voice Remot...</td>\n",
       "      <td>4.7</td>\n",
       "      <td>39.90</td>\n",
       "      <td>0.00</td>\n",
       "      <td>1884</td>\n",
       "      <td>https://images-na.ssl-images-amazon.com/images...</td>\n",
       "    </tr>\n",
       "    <tr>\n",
       "      <th>2</th>\n",
       "      <td>Amazon Devices &amp; Accessories</td>\n",
       "      <td>https://www.amazon.com/Best-Sellers/zgbs/amazo...</td>\n",
       "      <td>Echo Dot (3rd Gen) - Smart speaker with Alexa ...</td>\n",
       "      <td>4.7</td>\n",
       "      <td>39.90</td>\n",
       "      <td>0.00</td>\n",
       "      <td>1124438</td>\n",
       "      <td>https://images-na.ssl-images-amazon.com/images...</td>\n",
       "    </tr>\n",
       "    <tr>\n",
       "      <th>3</th>\n",
       "      <td>Amazon Devices &amp; Accessories</td>\n",
       "      <td>https://www.amazon.com/Best-Sellers/zgbs/amazo...</td>\n",
       "      <td>Fire TV Stick Lite with Alexa Voice Remote Lit...</td>\n",
       "      <td>4.7</td>\n",
       "      <td>29.90</td>\n",
       "      <td>0.00</td>\n",
       "      <td>151044</td>\n",
       "      <td>https://images-na.ssl-images-amazon.com/images...</td>\n",
       "    </tr>\n",
       "    <tr>\n",
       "      <th>4</th>\n",
       "      <td>Amazon Devices &amp; Accessories</td>\n",
       "      <td>https://www.amazon.com/Best-Sellers/zgbs/amazo...</td>\n",
       "      <td>Amazon Smart Plug, works with Alexa – A Certif...</td>\n",
       "      <td>4.7</td>\n",
       "      <td>24.90</td>\n",
       "      <td>0.00</td>\n",
       "      <td>425111</td>\n",
       "      <td>https://images-na.ssl-images-amazon.com/images...</td>\n",
       "    </tr>\n",
       "    <tr>\n",
       "      <th>...</th>\n",
       "      <td>...</td>\n",
       "      <td>...</td>\n",
       "      <td>...</td>\n",
       "      <td>...</td>\n",
       "      <td>...</td>\n",
       "      <td>...</td>\n",
       "      <td>...</td>\n",
       "      <td>...</td>\n",
       "    </tr>\n",
       "    <tr>\n",
       "      <th>3795</th>\n",
       "      <td>Video Games</td>\n",
       "      <td>https://www.amazon.com/best-sellers-video-game...</td>\n",
       "      <td>PowerA Joy Con Comfort Grips for Nintendo Swit...</td>\n",
       "      <td>4.7</td>\n",
       "      <td>9.88</td>\n",
       "      <td>0.00</td>\n",
       "      <td>21960</td>\n",
       "      <td>https://images-na.ssl-images-amazon.com/images...</td>\n",
       "    </tr>\n",
       "    <tr>\n",
       "      <th>3796</th>\n",
       "      <td>Video Games</td>\n",
       "      <td>https://www.amazon.com/best-sellers-video-game...</td>\n",
       "      <td>Super Mario 3D All-Stars (Nintendo Switch)</td>\n",
       "      <td>4.8</td>\n",
       "      <td>58.00</td>\n",
       "      <td>0.00</td>\n",
       "      <td>15109</td>\n",
       "      <td>https://images-na.ssl-images-amazon.com/images...</td>\n",
       "    </tr>\n",
       "    <tr>\n",
       "      <th>3797</th>\n",
       "      <td>Video Games</td>\n",
       "      <td>https://www.amazon.com/best-sellers-video-game...</td>\n",
       "      <td>Quest Link Cable 16ft, VOKOO Oculus Quest Link...</td>\n",
       "      <td>4.3</td>\n",
       "      <td>29.90</td>\n",
       "      <td>0.00</td>\n",
       "      <td>3576</td>\n",
       "      <td>https://images-na.ssl-images-amazon.com/images...</td>\n",
       "    </tr>\n",
       "    <tr>\n",
       "      <th>3798</th>\n",
       "      <td>Video Games</td>\n",
       "      <td>https://www.amazon.com/best-sellers-video-game...</td>\n",
       "      <td>RUNMUS K8 Gaming Headset for PS4, Xbox One, PC...</td>\n",
       "      <td>4.5</td>\n",
       "      <td>21.80</td>\n",
       "      <td>0.00</td>\n",
       "      <td>47346</td>\n",
       "      <td>https://images-na.ssl-images-amazon.com/images...</td>\n",
       "    </tr>\n",
       "    <tr>\n",
       "      <th>3799</th>\n",
       "      <td>Video Games</td>\n",
       "      <td>https://www.amazon.com/best-sellers-video-game...</td>\n",
       "      <td>NBA 2K21: 15,000 VC - PS4 [Digital Code]</td>\n",
       "      <td>4.5</td>\n",
       "      <td>4.99</td>\n",
       "      <td>99.99</td>\n",
       "      <td>454</td>\n",
       "      <td>https://images-na.ssl-images-amazon.com/images...</td>\n",
       "    </tr>\n",
       "  </tbody>\n",
       "</table>\n",
       "<p>3800 rows × 8 columns</p>\n",
       "</div>"
      ],
      "text/plain": [
       "                             Topic  \\\n",
       "0     Amazon Devices & Accessories   \n",
       "1     Amazon Devices & Accessories   \n",
       "2     Amazon Devices & Accessories   \n",
       "3     Amazon Devices & Accessories   \n",
       "4     Amazon Devices & Accessories   \n",
       "...                            ...   \n",
       "3795                   Video Games   \n",
       "3796                   Video Games   \n",
       "3797                   Video Games   \n",
       "3798                   Video Games   \n",
       "3799                   Video Games   \n",
       "\n",
       "                                              Topic_url  \\\n",
       "0     https://www.amazon.com/Best-Sellers/zgbs/amazo...   \n",
       "1     https://www.amazon.com/Best-Sellers/zgbs/amazo...   \n",
       "2     https://www.amazon.com/Best-Sellers/zgbs/amazo...   \n",
       "3     https://www.amazon.com/Best-Sellers/zgbs/amazo...   \n",
       "4     https://www.amazon.com/Best-Sellers/zgbs/amazo...   \n",
       "...                                                 ...   \n",
       "3795  https://www.amazon.com/best-sellers-video-game...   \n",
       "3796  https://www.amazon.com/best-sellers-video-game...   \n",
       "3797  https://www.amazon.com/best-sellers-video-game...   \n",
       "3798  https://www.amazon.com/best-sellers-video-game...   \n",
       "3799  https://www.amazon.com/best-sellers-video-game...   \n",
       "\n",
       "                                       Item_description  Rating out of 5  \\\n",
       "0     Fire TV Stick 4K streaming device with Alexa V...              4.7   \n",
       "1     Fire TV Stick (3rd Gen) with Alexa Voice Remot...              4.7   \n",
       "2     Echo Dot (3rd Gen) - Smart speaker with Alexa ...              4.7   \n",
       "3     Fire TV Stick Lite with Alexa Voice Remote Lit...              4.7   \n",
       "4     Amazon Smart Plug, works with Alexa – A Certif...              4.7   \n",
       "...                                                 ...              ...   \n",
       "3795  PowerA Joy Con Comfort Grips for Nintendo Swit...              4.7   \n",
       "3796         Super Mario 3D All-Stars (Nintendo Switch)              4.8   \n",
       "3797  Quest Link Cable 16ft, VOKOO Oculus Quest Link...              4.3   \n",
       "3798  RUNMUS K8 Gaming Headset for PS4, Xbox One, PC...              4.5   \n",
       "3799           NBA 2K21: 15,000 VC - PS4 [Digital Code]              4.5   \n",
       "\n",
       "      Minimum_price  Maximum_price   Review  \\\n",
       "0             39.90           0.00   615786   \n",
       "1             39.90           0.00     1884   \n",
       "2             39.90           0.00  1124438   \n",
       "3             29.90           0.00   151044   \n",
       "4             24.90           0.00   425111   \n",
       "...             ...            ...      ...   \n",
       "3795           9.88           0.00    21960   \n",
       "3796          58.00           0.00    15109   \n",
       "3797          29.90           0.00     3576   \n",
       "3798          21.80           0.00    47346   \n",
       "3799           4.99          99.99      454   \n",
       "\n",
       "                                               Item Url  \n",
       "0     https://images-na.ssl-images-amazon.com/images...  \n",
       "1     https://images-na.ssl-images-amazon.com/images...  \n",
       "2     https://images-na.ssl-images-amazon.com/images...  \n",
       "3     https://images-na.ssl-images-amazon.com/images...  \n",
       "4     https://images-na.ssl-images-amazon.com/images...  \n",
       "...                                                 ...  \n",
       "3795  https://images-na.ssl-images-amazon.com/images...  \n",
       "3796  https://images-na.ssl-images-amazon.com/images...  \n",
       "3797  https://images-na.ssl-images-amazon.com/images...  \n",
       "3798  https://images-na.ssl-images-amazon.com/images...  \n",
       "3799  https://images-na.ssl-images-amazon.com/images...  \n",
       "\n",
       "[3800 rows x 8 columns]"
      ]
     },
     "execution_count": 104,
     "metadata": {},
     "output_type": "execute_result"
    }
   ],
   "source": [
    "dataframe"
   ]
  },
  {
   "cell_type": "code",
   "execution_count": 105,
   "metadata": {},
   "outputs": [
    {
     "data": {
      "text/plain": [
       "(3800, 8)"
      ]
     },
     "execution_count": 105,
     "metadata": {},
     "output_type": "execute_result"
    }
   ],
   "source": [
    "dataframe.shape"
   ]
  },
  {
   "cell_type": "markdown",
   "metadata": {},
   "source": [
    "We have a dataframe with more than 3000 rows of data and 8 columns"
   ]
  },
  {
   "cell_type": "markdown",
   "metadata": {},
   "source": [
    "Let's save dataframe as a csv file using `pandas`."
   ]
  },
  {
   "cell_type": "code",
   "execution_count": 106,
   "metadata": {},
   "outputs": [],
   "source": [
    "dataframe.to_csv('AmazonBestSeller.csv', index=None)"
   ]
  },
  {
   "cell_type": "markdown",
   "metadata": {},
   "source": [
    "The CSV file created can be accessible by clicking on File > open"
   ]
  },
  {
   "cell_type": "markdown",
   "metadata": {},
   "source": [
    "![csv](https://i.imgur.com/w50umFK.png)"
   ]
  },
  {
   "cell_type": "markdown",
   "metadata": {},
   "source": [
    "Let's open our csv file read lines, and print out the first 5 lines  of data"
   ]
  },
  {
   "cell_type": "code",
   "execution_count": 107,
   "metadata": {},
   "outputs": [],
   "source": [
    "with open(\"AmazonBestSeller.csv\",\"r\") as f:\n",
    "    data = f.readlines()"
   ]
  },
  {
   "cell_type": "code",
   "execution_count": 108,
   "metadata": {},
   "outputs": [
    {
     "data": {
      "text/plain": [
       "['Topic,Topic_url,Item_description,Rating out of 5,Minimum_price,Maximum_price,Review,Item Url\\n',\n",
       " 'Amazon Devices & Accessories,https://www.amazon.com/Best-Sellers/zgbs/amazon-devices/ref=zg_bs_nav_0/138-0735230-1420505,Fire TV Stick 4K streaming device with Alexa Voice Remote | Dolby Vision | 2018 release,4.7,39.9,0.0,615786,\"https://images-na.ssl-images-amazon.com/images/I/51CgKGfMelL._AC_UL200_SR200,200_.jpg\"\\n',\n",
       " 'Amazon Devices & Accessories,https://www.amazon.com/Best-Sellers/zgbs/amazon-devices/ref=zg_bs_nav_0/138-0735230-1420505,Fire TV Stick (3rd Gen) with Alexa Voice Remote (includes TV controls) | HD streaming device | 2021 release,4.7,39.9,0.0,1884,\"https://images-na.ssl-images-amazon.com/images/I/51KKR5uGn6L._AC_UL200_SR200,200_.jpg\"\\n',\n",
       " 'Amazon Devices & Accessories,https://www.amazon.com/Best-Sellers/zgbs/amazon-devices/ref=zg_bs_nav_0/138-0735230-1420505,Echo Dot (3rd Gen) - Smart speaker with Alexa - Charcoal,4.7,39.9,0.0,1124438,\"https://images-na.ssl-images-amazon.com/images/I/6182S7MYC2L._AC_UL200_SR200,200_.jpg\"\\n',\n",
       " 'Amazon Devices & Accessories,https://www.amazon.com/Best-Sellers/zgbs/amazon-devices/ref=zg_bs_nav_0/138-0735230-1420505,Fire TV Stick Lite with Alexa Voice Remote Lite (no TV controls) | HD streaming device | 2020 release,4.7,29.9,0.0,151044,\"https://images-na.ssl-images-amazon.com/images/I/51Da2Z%2BFTFL._AC_UL200_SR200,200_.jpg\"\\n']"
      ]
     },
     "execution_count": 108,
     "metadata": {},
     "output_type": "execute_result"
    }
   ],
   "source": [
    "data[:5]"
   ]
  },
  {
   "cell_type": "code",
   "execution_count": 109,
   "metadata": {},
   "outputs": [
    {
     "data": {
      "application/javascript": [
       "window.require && require([\"base/js/namespace\"],function(Jupyter){Jupyter.notebook.save_checkpoint()})"
      ],
      "text/plain": [
       "<IPython.core.display.Javascript object>"
      ]
     },
     "metadata": {},
     "output_type": "display_data"
    },
    {
     "name": "stdout",
     "output_type": "stream",
     "text": [
      "[jovian] Attempting to save notebook..\u001b[0m\n",
      "[jovian] Updating notebook \"landryroni/amazon-best-seller-web-scraping\" on https://jovian.ai\u001b[0m\n",
      "[jovian] Uploading notebook..\u001b[0m\n",
      "[jovian] Uploading additional files...\u001b[0m\n",
      "[jovian] Committed successfully! https://jovian.ai/landryroni/amazon-best-seller-web-scraping\u001b[0m\n"
     ]
    },
    {
     "data": {
      "text/plain": [
       "'https://jovian.ai/landryroni/amazon-best-seller-web-scraping'"
      ]
     },
     "execution_count": 109,
     "metadata": {},
     "output_type": "execute_result"
    }
   ],
   "source": [
    "jovian.commit()"
   ]
  },
  {
   "cell_type": "markdown",
   "metadata": {},
   "source": [
    "## Summary\n",
    "\n",
    "What we have done so far was:\n",
    "\n",
    "- Install and import libraries \n",
    "- Download and Parse the Best seller HTML page source code using resquest and Beautifulsoup to get item categories topics URL.\n",
    "- Repeat setp 2 on each obtained item topic obtained using corresponding URL \n",
    "- Extract information from each page \n",
    "- Combine the extracted information Extract information from each pages data in a Python Dictionaries\n",
    "- Save the information data to CSV file Using Pandas library\n",
    "\n",
    "By the end of the project, we'll create a csv file in the following format:\n",
    "\n",
    "\n",
    "```\n",
    "Topic,Topic_url,Item_description,Rating out of 5,Minimum_price,Maximum_price,Review,Item Url\n",
    "Amazon Devices & Accessories,https://www.amazon.com/Best-Sellers/zgbs/amazon-devices/ref=zg_bs_nav_0/131-6756172-7735956,Fire TV Stick 4K streaming device with Alexa Voice Remote | Dolby Vision | 2018 release,4.7,39.9,0.0,615699,\"https://images-na.ssl-images-amazon.com/images/I/51CgKGfMelL._AC_UL200_SR200,200_.jpg\"\n",
    "Amazon Devices & Accessories,https://www.amazon.com/Best-Sellers/zgbs/amazon-devices/ref=zg_bs_nav_0/131-6756172-7735956,Fire TV Stick (3rd Gen) with Alexa Voice Remote (includes TV controls) | HD streaming device | 2021 release,4.7,39.9,0.0,1844,\"https://images-na.ssl-images-amazon.com/images/I/51KKR5uGn6L._AC_UL200_SR200,200_.jpg\"\n",
    "Amazon Devices & Accessories,https://www.amazon.com/Best-Sellers/zgbs/amazon-devices/ref=zg_bs_nav_0/131-6756172-7735956,\"Amazon Smart Plug, works with Alexa – A Certified for Humans Device\",4.7,24.9,0.0,425090,\"https://images-na.ssl-images-amazon.com/images/I/41uF7hO8FtL._AC_UL200_SR200,200_.jpg\"\n",
    "Amazon Devices & Accessories,https://www.amazon.com/Best-Sellers/zgbs/amazon-devices/ref=zg_bs_nav_0/131-6756172-7735956,Fire TV Stick Lite with Alexa Voice Remote Lite (no TV controls) | HD streaming device | 2020 release,4.7,29.9,0.0,151007,\"https://images-na.ssl-images-amazon.com/images/I/51Da2Z%2BFTFL._AC_UL200_SR200,200_.jpg\"\n",
    "```"
   ]
  },
  {
   "cell_type": "markdown",
   "metadata": {},
   "source": [
    "Even though we do have a promising result, and covered interesting features that will be helpful in future web scraping projects using python, requests, BeautifulSoup libraries, there is still a long way to go, extra work can be done like improving the scraping process through writing better code. Any other suggestions are welcome to help to deal with the failure of some pages when parsing due to captcha. Please feel free to let a comment that will help to improve this work.\n"
   ]
  },
  {
   "cell_type": "markdown",
   "metadata": {},
   "source": [
    "## Future Work\n",
    "\n",
    "- additiong work can be done to avoid captcha and getting access to all of pages.\n",
    "- explore other more complex websites.\n",
    "- explore how we might go about scraping data using Selenium and scrapy."
   ]
  },
  {
   "cell_type": "markdown",
   "metadata": {},
   "source": [
    "![next](https://i.imgur.com/RIq5fYV.png)"
   ]
  },
  {
   "cell_type": "markdown",
   "metadata": {},
   "source": [
    "## References\n",
    "\n",
    "Here are some link to learn more about used library:\n",
    "- [request](https://docs.python-requests.org/projects/requests-html/en/latest/)\n",
    "- [Beautiful Soup](https://www.crummy.com/software/BeautifulSoup/bs4/doc/) \n",
    "- [html source code](https://en.wikipedia.org/wiki/HTML#:~:text=The%20HyperText%20Markup%20Language%2C%20or,displayed%20in%20a%20web%20browser.)\n",
    "- [pandas](https://pandas.pydata.org/docs/reference/api/pandas.DataFrame.html)\n",
    "- [itertools.chain](https://docs.python.org/3/library/itertools.html#itertools.chain)\n",
    "\n",
    "here are some tutorial on web scraping:\n",
    "\n",
    "- [Web scraping project from scratch](https://www.youtube.com/watch?v=RKsLLG-bzEY&t=1104s)\n",
    "- [Amazon web scraping](https://www.datacamp.com/community/tutorials/amazon-web-scraping-using-beautifulsoup)\n",
    "- [web scraping with yahoo finance](https://towardsdatascience.com/web-scraping-yahoo-finance-477fe3daa852)\n"
   ]
  },
  {
   "cell_type": "code",
   "execution_count": null,
   "metadata": {},
   "outputs": [
    {
     "data": {
      "application/javascript": [
       "window.require && require([\"base/js/namespace\"],function(Jupyter){Jupyter.notebook.save_checkpoint()})"
      ],
      "text/plain": [
       "<IPython.core.display.Javascript object>"
      ]
     },
     "metadata": {},
     "output_type": "display_data"
    }
   ],
   "source": [
    "jovian.commit()"
   ]
  },
  {
   "cell_type": "code",
   "execution_count": 94,
   "metadata": {},
   "outputs": [
    {
     "data": {
      "application/javascript": [
       "window.require && require([\"base/js/namespace\"],function(Jupyter){Jupyter.notebook.save_checkpoint()})"
      ],
      "text/plain": [
       "<IPython.core.display.Javascript object>"
      ]
     },
     "metadata": {},
     "output_type": "display_data"
    },
    {
     "name": "stdout",
     "output_type": "stream",
     "text": [
      "[jovian] Attempting to save notebook..\u001b[0m\n",
      "[jovian] Updating notebook \"landryroni/amazon-best-seller-web-scraping\" on https://jovian.ai\u001b[0m\n",
      "[jovian] Uploading notebook..\u001b[0m\n",
      "[jovian] Uploading additional files...\u001b[0m\n",
      "[jovian] Committed successfully! https://jovian.ai/landryroni/amazon-best-seller-web-scraping\u001b[0m\n",
      "[jovian] Submitting assignment..\u001b[0m\n",
      "[jovian] Verify your submission at https://jovian.ai/learn/zero-to-data-analyst-bootcamp/assignment/project-1-web-scraping-with-python\u001b[0m\n"
     ]
    }
   ],
   "source": [
    "jovian.submit(assignment=\"zerotoanalyst-project1\")"
   ]
  },
  {
   "cell_type": "code",
   "execution_count": null,
   "metadata": {},
   "outputs": [
    {
     "data": {
      "application/javascript": [
       "window.require && require([\"base/js/namespace\"],function(Jupyter){Jupyter.notebook.save_checkpoint()})"
      ],
      "text/plain": [
       "<IPython.core.display.Javascript object>"
      ]
     },
     "metadata": {},
     "output_type": "display_data"
    },
    {
     "name": "stdout",
     "output_type": "stream",
     "text": [
      "[jovian] Attempting to save notebook..\u001b[0m\n"
     ]
    }
   ],
   "source": [
    "jovian.commit(files=[\"AmazonBestSeller.csv\"])"
   ]
  },
  {
   "cell_type": "code",
   "execution_count": null,
   "metadata": {},
   "outputs": [],
   "source": []
  }
 ],
 "metadata": {
  "kernelspec": {
   "display_name": "Python 3",
   "language": "python",
   "name": "python3"
  },
  "language_info": {
   "codemirror_mode": {
    "name": "ipython",
    "version": 3
   },
   "file_extension": ".py",
   "mimetype": "text/x-python",
   "name": "python",
   "nbconvert_exporter": "python",
   "pygments_lexer": "ipython3",
   "version": "3.9.5"
  }
 },
 "nbformat": 4,
 "nbformat_minor": 2
}
